{
 "cells": [
  {
   "cell_type": "markdown",
   "metadata": {},
   "source": [
    "# The Science of Decisions Project"
   ]
  },
  {
   "cell_type": "markdown",
   "metadata": {},
   "source": [
    "## Background Information"
   ]
  },
  {
   "cell_type": "markdown",
   "metadata": {},
   "source": [
    "In a Stroop task, participants are presented with a list of words, with each word displayed in a color of ink. The participant’s task is to say out loud the color of the ink in which the word is printed. The task has two conditions: a congruent words condition, and an incongruent words condition. In the congruent words condition, the words being displayed are color words whose names match the colors in which they are printed: for example RED, BLUE. In the incongruent words condition, the words displayed are color words whose names do not match the colors in which they are printed: for example PURPLE, ORANGE. In each case, we measure the time it takes to name the ink colors in equally-sized lists. Each participant will go through and record a time from each condition."
   ]
  },
  {
   "cell_type": "code",
   "execution_count": 1,
   "metadata": {
    "collapsed": true
   },
   "outputs": [],
   "source": [
    "# import all necessary packages and functions.\n",
    "import csv\n",
    "import numpy as np\n",
    "import pandas as pd\n",
    "from scipy import stats\n",
    "from IPython.display import display\n",
    "import matplotlib.pyplot as plt"
   ]
  },
  {
   "cell_type": "code",
   "execution_count": 2,
   "metadata": {
    "collapsed": false
   },
   "outputs": [
    {
     "data": {
      "text/html": [
       "<div>\n",
       "<table border=\"1\" class=\"dataframe\">\n",
       "  <thead>\n",
       "    <tr style=\"text-align: right;\">\n",
       "      <th></th>\n",
       "      <th>Congruent</th>\n",
       "      <th>Incongruent</th>\n",
       "    </tr>\n",
       "  </thead>\n",
       "  <tbody>\n",
       "    <tr>\n",
       "      <th>0</th>\n",
       "      <td>12.079</td>\n",
       "      <td>19.278</td>\n",
       "    </tr>\n",
       "    <tr>\n",
       "      <th>1</th>\n",
       "      <td>16.791</td>\n",
       "      <td>18.741</td>\n",
       "    </tr>\n",
       "    <tr>\n",
       "      <th>2</th>\n",
       "      <td>9.564</td>\n",
       "      <td>21.214</td>\n",
       "    </tr>\n",
       "    <tr>\n",
       "      <th>3</th>\n",
       "      <td>8.630</td>\n",
       "      <td>15.687</td>\n",
       "    </tr>\n",
       "    <tr>\n",
       "      <th>4</th>\n",
       "      <td>14.669</td>\n",
       "      <td>22.803</td>\n",
       "    </tr>\n",
       "    <tr>\n",
       "      <th>5</th>\n",
       "      <td>12.238</td>\n",
       "      <td>20.878</td>\n",
       "    </tr>\n",
       "  </tbody>\n",
       "</table>\n",
       "</div>"
      ],
      "text/plain": [
       "   Congruent  Incongruent\n",
       "0     12.079       19.278\n",
       "1     16.791       18.741\n",
       "2      9.564       21.214\n",
       "3      8.630       15.687\n",
       "4     14.669       22.803\n",
       "5     12.238       20.878"
      ]
     },
     "metadata": {},
     "output_type": "display_data"
    }
   ],
   "source": [
    "# read in the data \n",
    "tasks_data = pd.read_csv('stroopdata.csv')\n",
    "\n",
    "# print out the first five rows of the table\n",
    "display(tasks_data.head(6))\n"
   ]
  },
  {
   "cell_type": "markdown",
   "metadata": {},
   "source": [
    "## Questions For Investigation"
   ]
  },
  {
   "cell_type": "markdown",
   "metadata": {},
   "source": [
    "**Question 1**: What is our independent variable? What is our dependent variable?\n",
    "\n",
    "**Answer**: \n",
    "\n",
    "    The independent variable is whether the words shown are congruent with the ink colors \n",
    "    or if they are incongruent with ink colors. \n",
    "    The dependent variable is the response time (in seconds) to name the color of the \n",
    "    inks in which the words are displayed. \n"
   ]
  },
  {
   "cell_type": "markdown",
   "metadata": {},
   "source": [
    "**Question 2**: What is an appropriate set of hypotheses for this task? What kind of statistical test do you expect to perform? Justify your choices.\n",
    "\n",
    "**Answer**: \n",
    "\n",
    "    μC = Mean of the response time of the congruent condition\n",
    "    μI = Mean of the response time of the incongruent condition\n",
    "   \n",
    "    H0: μC = μI\n",
    "        There is no difference in the mean of the response time between the congruent and incongruent condition.\n",
    "    H1: μC ≠ μI\n",
    "        There is a difference in the mean of the response time between the congruent and incongruent condition.\n",
    "                           \n",
    "    Statistical test: Dependent sample t-test (two-tailed). \n",
    "    Justifications: First of all, the population mean and standard deviaton are not \n",
    "                    provided, so we should conduct a t-test instead of the z-test. \n",
    "                    Secondly, participants had been tested twice (the congruent and \n",
    "                    incongruent condition), so we should use the dependent sample t-test. \n",
    "                    Thirdly, we want to test whether there is a difference in response \n",
    "                    time between viewing congruent & incongruent words, not whether the \n",
    "                    response time is faster or shorter in viewing congruent words than\n",
    "                    viewing incongruent words. Therefore, we will use the two-tailed\n",
    "                    test.\n",
    "    "
   ]
  },
  {
   "cell_type": "markdown",
   "metadata": {},
   "source": [
    "**Question 3**: Report some descriptive statistics regarding this dataset. Include at least one measure of central tendency and at least one measure of variability.\n"
   ]
  },
  {
   "cell_type": "code",
   "execution_count": 4,
   "metadata": {
    "collapsed": false,
    "scrolled": true
   },
   "outputs": [
    {
     "name": "stdout",
     "output_type": "stream",
     "text": [
      "Congruent condition:\n",
      "Mean: 14.05\n",
      "Median: 14.36\n",
      "Standard deviation: 3.56\n",
      "\n",
      "Incongruent condition:\n",
      "Mean: 22.02\n",
      "Median: 21.02\n",
      "Standard deviation: 4.8\n"
     ]
    }
   ],
   "source": [
    "print (\"Congruent condition:\")\n",
    "print (\"Mean: \" + str(round(np.mean(tasks_data.Congruent), 2)))\n",
    "print (\"Median: \" + str(round(np.median(tasks_data.Congruent), 2)))\n",
    "print (\"Standard deviation: \" + str(round(np.std(tasks_data.Congruent,ddof = 1), 2)))\n",
    "print (\"\")\n",
    "print (\"Incongruent condition:\")\n",
    "print (\"Mean: \" + str(round(np.mean(tasks_data.Incongruent), 2)))\n",
    "print (\"Median: \" + str(round(np.median(tasks_data.Incongruent), 2)))\n",
    "print (\"Standard deviation: \" + str(round(np.std(tasks_data.Incongruent, ddof = 1), 2)))"
   ]
  },
  {
   "cell_type": "markdown",
   "metadata": {},
   "source": [
    "**Question 4**: Provide one or two visualizations that show the distribution of the sample data. Write one or two sentences noting what you observe about the plot or plots.\n"
   ]
  },
  {
   "cell_type": "code",
   "execution_count": 5,
   "metadata": {
    "collapsed": false
   },
   "outputs": [
    {
     "data": {
      "image/png": "[encoded data removed]",
      "text/plain": [
       "<matplotlib.figure.Figure at 0x87219cdeb8>"
      ]
     },
     "metadata": {},
     "output_type": "display_data"
    }
   ],
   "source": [
    "plt.hist(tasks_data.Congruent, range = (0, 36))\n",
    "plt.xlabel('Response time (in seconds)')\n",
    "plt.ylabel('Frequency')\n",
    "plt.title(\"Response time (The Congruent Condition)\")\n",
    "plt.show()"
   ]
  },
  {
   "cell_type": "code",
   "execution_count": 6,
   "metadata": {
    "collapsed": false
   },
   "outputs": [
    {
     "data": {
      "image/png": "[encoded data removed]",
      "text/plain": [
       "<matplotlib.figure.Figure at 0x8721e88da0>"
      ]
     },
     "metadata": {},
     "output_type": "display_data"
    }
   ],
   "source": [
    "plt.hist(tasks_data.Incongruent, range = (0, 36))\n",
    "plt.xlabel('Response time (in seconds)')\n",
    "plt.ylabel('Frequency')\n",
    "plt.title(\"Response time (The Incongruent Condition)\")\n",
    "plt.show()"
   ]
  },
  {
   "cell_type": "markdown",
   "metadata": {},
   "source": [
    "**Answer**: \n",
    "\n",
    "    The response time is shorter in the congruent condition than incongrugent condition."
   ]
  },
  {
   "cell_type": "markdown",
   "metadata": {},
   "source": [
    "Now, perform the statistical test and report your results. "
   ]
  },
  {
   "cell_type": "code",
   "execution_count": 7,
   "metadata": {
    "collapsed": false
   },
   "outputs": [
    {
     "data": {
      "text/plain": [
       "Ttest_relResult(statistic=-8.020706944109957, pvalue=4.1030005857111781e-08)"
      ]
     },
     "execution_count": 7,
     "metadata": {},
     "output_type": "execute_result"
    }
   ],
   "source": [
    "stats.ttest_rel(tasks_data.Congruent, tasks_data.Incongruent)"
   ]
  },
  {
   "cell_type": "markdown",
   "metadata": {},
   "source": [
    "**Question 5**: What is your confidence level and your critical statistic value? Do you reject the null hypothesis or fail to reject it? Come to a conclusion in terms of the experiment task. Did the results match up with your expectations?\n",
    "\n",
    "**Answer**: \n",
    "\n",
    "    With 95% Confidence Interval:\n",
    "        α = 0.05 , df = 23, t-value = -2.07, +2.07\n",
    "    \n",
    "    Since -8.02 is smaller than -2.07, the null hypothesis is reject. We conclude that \n",
    "    there was a significant difference in response time between naming the the color of \n",
    "    the inks when the workds shown are congruent (M = 14.05, SD = 3.56) or \n",
    "    incongruent (M = 22.02, SD = 4.80) with the ink colors; t(23) = -8.02, p = 0.005. "
   ]
  }
 ],
 "metadata": {
  "kernelspec": {
   "display_name": "Python 3",
   "language": "python",
   "name": "python3"
  },
  "language_info": {
   "codemirror_mode": {
    "name": "ipython",
    "version": 3
   },
   "file_extension": ".py",
   "mimetype": "text/x-python",
   "name": "python",
   "nbconvert_exporter": "python",
   "pygments_lexer": "ipython3",
   "version": "3.6.0"
  }
 },
 "nbformat": 4,
 "nbformat_minor": 2
}
